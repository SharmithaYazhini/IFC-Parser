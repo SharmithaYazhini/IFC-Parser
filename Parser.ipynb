{
  "nbformat": 4,
  "nbformat_minor": 0,
  "metadata": {
    "colab": {
      "provenance": []
    },
    "kernelspec": {
      "name": "python3",
      "display_name": "Python 3"
    },
    "language_info": {
      "name": "python"
    }
  },
  "cells": [
    {
      "cell_type": "code",
      "execution_count": null,
      "metadata": {
        "id": "0WKZJaghdLeX"
      },
      "outputs": [],
      "source": [
        "def get_objects_data_by_class(file, class_type):\n",
        "    def add_pset_attributes(psets):\n",
        "        for pset_name, pset_data in psets.items():\n",
        "            for property_name in pset_data.keys():\n",
        "                pset_attributes.add(f'{pset_name}.{property_name}')\n",
        "    \n",
        "    pset_attributes = set()\n",
        "    objects_data = []\n",
        "    objects = file.by_type(class_type)\n",
        "      \n",
        "    for object in objects:\n",
        "        psets = Element.get_psets(object, psets_only=True)\n",
        "        add_pset_attributes(psets)\n",
        "        qtos = Element.get_psets(object, qtos_only=True)\n",
        "        add_pset_attributes(qtos)\n",
        "        objects_data.append({\n",
        "            \"ExpressId\": object.id(),\n",
        "            \"GlobalId\": object.GlobalId,\n",
        "            \"Class\": object.is_a(),\n",
        "            \"PredefinedType\": Element.get_predefined_type(object),\n",
        "            \"Name\": object.Name,\n",
        "            \"Level\": Element.get_container(object).Name\n",
        "            if Element.get_container(object)\n",
        "            else \"\",\n",
        "            \"Type\": Element.get_type(object).Name\n",
        "            if Element.get_type(object)\n",
        "            else \"\",\n",
        "            \"QuantitySets\": qtos,\n",
        "            \"PropertySets\": psets,\n",
        "        })\n",
        "    return objects_data, list(pset_attributes)\n",
        "\n",
        "\n",
        "def get_attribute_value(object_data, attribute):\n",
        "    if \".\" not in attribute:\n",
        "        return object_data[attribute]\n",
        "    elif \".\" in attribute:\n",
        "        pset_name = attribute.split(\".\",1)[0]\n",
        "        prop_name = attribute.split(\".\",-1)[1]\n",
        "        if pset_name in object_data[\"PropertySets\"].keys():\n",
        "            if prop_name in object_data[\"PropertySets\"][pset_name].keys():\n",
        "                return object_data[\"PropertySets\"][pset_name][prop_name]\n",
        "            else:\n",
        "                return None\n",
        "        if pset_name in object_data[\"QuantitySets\"].keys():\n",
        "            if prop_name in object_data[\"QuantitySets\"][pset_name].keys():\n",
        "                return object_data[\"QuantitySets\"][pset_name][prop_name]\n",
        "            else:\n",
        "                return None\n",
        "    else:\n",
        "        return None\n",
        "        \n",
        "\n",
        "data, pset_attributes = get_objects_data_by_class(file, \"IfcWall\")\n",
        "\n",
        "attributes = [\"ExpressId\", \"GlobalId\", \"Class\", \"PredefinedType\", \"Name\", \"Level\", \"Type\"] + pset_attributes\n",
        "\n",
        "pandas_data = []\n",
        "for object_data in data:\n",
        "    row = []\n",
        "    for attribute in attributes:\n",
        "        value = get_attribute_value(object_data, attribute)\n",
        "        row.append(value)\n",
        "    pandas_data.append(tuple(row))\n",
        "\n",
        "import pandas as pd\n",
        "dataframe = pd.DataFrame.from_records(pandas_data, columns=attributes)"
      ]
    }
  ]
}